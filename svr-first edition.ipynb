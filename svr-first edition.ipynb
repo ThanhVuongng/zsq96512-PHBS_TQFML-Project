{
 "cells": [
  {
   "cell_type": "code",
   "execution_count": 1,
   "metadata": {},
   "outputs": [
    {
     "data": {
      "text/plain": [
       "(852,)"
      ]
     },
     "execution_count": 1,
     "metadata": {},
     "output_type": "execute_result"
    }
   ],
   "source": [
    "import numpy as np\n",
    "from sklearn.svm import SVR\n",
    "import matplotlib.pyplot as plt\n",
    "GBP=np.loadtxt('GBP-subsample.csv',delimiter=',')\n",
    "GBP.shape"
   ]
  },
  {
   "cell_type": "code",
   "execution_count": 2,
   "metadata": {},
   "outputs": [],
   "source": [
    "X=GBP[0:-4]\n",
    "y=GBP[4:]\n",
    "X=np.array(X).reshape(-1,1)"
   ]
  },
  {
   "cell_type": "code",
   "execution_count": 3,
   "metadata": {},
   "outputs": [],
   "source": [
    "y=np.array(y).reshape(-1,1)"
   ]
  },
  {
   "cell_type": "code",
   "execution_count": 4,
   "metadata": {},
   "outputs": [],
   "source": [
    "X_train=X[500:840]\n",
    "y_train=y[500:840]\n",
    "X_test=X[841:]\n",
    "y_test=y[841:]\n"
   ]
  },
  {
   "cell_type": "code",
   "execution_count": 5,
   "metadata": {},
   "outputs": [],
   "source": [
    "from sklearn import preprocessing\n",
    "min_max_scaler=preprocessing.MinMaxScaler()\n",
    "X_train_minmax=min_max_scaler.fit_transform(X_train)\n",
    "X_test=min_max_scaler.transform(X_test)\n",
    "y_train=min_max_scaler.fit_transform(y_train)\n",
    "y_test=min_max_scaler.transform(y_test)"
   ]
  },
  {
   "cell_type": "code",
   "execution_count": 6,
   "metadata": {},
   "outputs": [],
   "source": [
    "svr_rbf=SVR(kernel='rbf',C=0.01,gamma=0.01)\n",
    "svr_linear=SVR(kernel='linear')\n",
    "svr_poly=SVR(kernel='poly',C=0.01,degree=5)"
   ]
  },
  {
   "cell_type": "code",
   "execution_count": 7,
   "metadata": {},
   "outputs": [
    {
     "name": "stderr",
     "output_type": "stream",
     "text": [
      "C:\\ProgramData\\Anaconda3\\lib\\site-packages\\sklearn\\utils\\validation.py:578: DataConversionWarning: A column-vector y was passed when a 1d array was expected. Please change the shape of y to (n_samples, ), for example using ravel().\n",
      "  y = column_or_1d(y, warn=True)\n"
     ]
    }
   ],
   "source": [
    "y_rbf=svr_rbf.fit(X_train,y_train).predict(X_test)\n",
    "y_linear=svr_linear.fit(X_train,y_train).predict(X_test)\n",
    "y_poly=svr_poly.fit(X_train,y_train).predict(X_test)"
   ]
  },
  {
   "cell_type": "code",
   "execution_count": 8,
   "metadata": {},
   "outputs": [
    {
     "name": "stdout",
     "output_type": "stream",
     "text": [
      "R-squared value of linear SVR is  0.04120492954807686\n",
      "R-squared value of Poly SVR is  -0.21781436583796143\n",
      "R-squared value of Rbf SVR is  -0.2177102363975818\n"
     ]
    }
   ],
   "source": [
    "from sklearn.metrics import r2_score,mean_absolute_error,mean_squared_error\n",
    "print('R-squared value of linear SVR is ',svr_linear.score(X_test,y_test))\n",
    "print('R-squared value of Poly SVR is ',svr_poly.score(X_test,y_test))\n",
    "print('R-squared value of Rbf SVR is ',svr_rbf.score(X_test,y_test))"
   ]
  },
  {
   "cell_type": "code",
   "execution_count": 9,
   "metadata": {},
   "outputs": [
    {
     "name": "stdout",
     "output_type": "stream",
     "text": [
      "The mean squared error of linear SVR is 1.0591143856906983e-05\n",
      "The mean squared error of poly SVR is 1.3452350285362202e-05\n",
      "The mean squared error of rbf SVR is 1.3451200039687401e-05\n"
     ]
    }
   ],
   "source": [
    "print('The mean squared error of linear SVR is', \n",
    "      mean_squared_error(min_max_scaler.inverse_transform(y_test),\n",
    "                        min_max_scaler.inverse_transform(y_linear.reshape(-1,1))))\n",
    "print('The mean squared error of poly SVR is', \n",
    "      mean_squared_error(min_max_scaler.inverse_transform(y_test),\n",
    "                        min_max_scaler.inverse_transform(y_poly.reshape(-1,1))))\n",
    "print('The mean squared error of rbf SVR is', \n",
    "      mean_squared_error(min_max_scaler.inverse_transform(y_test),\n",
    "                        min_max_scaler.inverse_transform(y_rbf.reshape(-1,1))))"
   ]
  },
  {
   "cell_type": "code",
   "execution_count": null,
   "metadata": {},
   "outputs": [],
   "source": [
    "print('The mean absolute error of linear SVR is', \n",
    "      mean_absolute_error(min_max_scaler.inverse_transform(y_test),\n",
    "                        min_max_scaler.inverse_transform(y_linear.reshape(-1,1))))\n",
    "print('The mean absolute error of poly SVR is', \n",
    "      mean_absolute_error(min_max_scaler.inverse_transform(y_test),\n",
    "                        min_max_scaler.inverse_transform(y_poly.reshape(-1,1))))\n",
    "print('The mean absolute error of rbf SVR is', \n",
    "      mean_absolute_error(min_max_scaler.inverse_transform(y_test),\n",
    "                        min_max_scaler.inverse_transform(y_rbf.reshape(-1,1))))"
   ]
  },
  {
   "cell_type": "code",
   "execution_count": 11,
   "metadata": {},
   "outputs": [
    {
     "data": {
      "text/plain": [
       "array([[0.0012252 ],\n",
       "       [0.00116072],\n",
       "       [0.00133462],\n",
       "       [0.00165508],\n",
       "       [0.00195795],\n",
       "       [0.00183582],\n",
       "       [0.00186318]])"
      ]
     },
     "execution_count": 11,
     "metadata": {},
     "output_type": "execute_result"
    }
   ],
   "source": [
    "min_max_scaler.inverse_transform(y_linear.reshape(-1,1))"
   ]
  },
  {
   "cell_type": "code",
   "execution_count": null,
   "metadata": {},
   "outputs": [],
   "source": []
  }
 ],
 "metadata": {
  "kernelspec": {
   "display_name": "Python 3",
   "language": "python",
   "name": "python3"
  },
  "language_info": {
   "codemirror_mode": {
    "name": "ipython",
    "version": 3
   },
   "file_extension": ".py",
   "mimetype": "text/x-python",
   "name": "python",
   "nbconvert_exporter": "python",
   "pygments_lexer": "ipython3",
   "version": "3.6.4"
  }
 },
 "nbformat": 4,
 "nbformat_minor": 2
}
