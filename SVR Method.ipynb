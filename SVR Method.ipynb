{
 "cells": [
  {
   "cell_type": "markdown",
   "metadata": {},
   "source": [
    "# SVR method"
   ]
  },
  {
   "cell_type": "markdown",
   "metadata": {},
   "source": [
    "## Import data"
   ]
  },
  {
   "cell_type": "code",
   "execution_count": 1,
   "metadata": {},
   "outputs": [
    {
     "data": {
      "text/html": [
       "<div>\n",
       "<style scoped>\n",
       "    .dataframe tbody tr th:only-of-type {\n",
       "        vertical-align: middle;\n",
       "    }\n",
       "\n",
       "    .dataframe tbody tr th {\n",
       "        vertical-align: top;\n",
       "    }\n",
       "\n",
       "    .dataframe thead th {\n",
       "        text-align: right;\n",
       "    }\n",
       "</style>\n",
       "<table border=\"1\" class=\"dataframe\">\n",
       "  <thead>\n",
       "    <tr style=\"text-align: right;\">\n",
       "      <th></th>\n",
       "      <th>JPY/USD</th>\n",
       "      <th>diff_1</th>\n",
       "      <th>diff_2</th>\n",
       "    </tr>\n",
       "    <tr>\n",
       "      <th>daily</th>\n",
       "      <th></th>\n",
       "      <th></th>\n",
       "      <th></th>\n",
       "    </tr>\n",
       "  </thead>\n",
       "  <tbody>\n",
       "    <tr>\n",
       "      <th>2016-01-04</th>\n",
       "      <td>119.45</td>\n",
       "      <td>NaN</td>\n",
       "      <td>NaN</td>\n",
       "    </tr>\n",
       "    <tr>\n",
       "      <th>2016-01-05</th>\n",
       "      <td>119.06</td>\n",
       "      <td>-0.39</td>\n",
       "      <td>NaN</td>\n",
       "    </tr>\n",
       "    <tr>\n",
       "      <th>2016-01-06</th>\n",
       "      <td>118.47</td>\n",
       "      <td>-0.59</td>\n",
       "      <td>-0.20</td>\n",
       "    </tr>\n",
       "    <tr>\n",
       "      <th>2016-01-07</th>\n",
       "      <td>117.64</td>\n",
       "      <td>-0.83</td>\n",
       "      <td>-0.24</td>\n",
       "    </tr>\n",
       "    <tr>\n",
       "      <th>2016-01-08</th>\n",
       "      <td>117.25</td>\n",
       "      <td>-0.39</td>\n",
       "      <td>0.44</td>\n",
       "    </tr>\n",
       "  </tbody>\n",
       "</table>\n",
       "</div>"
      ],
      "text/plain": [
       "            JPY/USD  diff_1  diff_2\n",
       "daily                              \n",
       "2016-01-04   119.45     NaN     NaN\n",
       "2016-01-05   119.06   -0.39     NaN\n",
       "2016-01-06   118.47   -0.59   -0.20\n",
       "2016-01-07   117.64   -0.83   -0.24\n",
       "2016-01-08   117.25   -0.39    0.44"
      ]
     },
     "execution_count": 1,
     "metadata": {},
     "output_type": "execute_result"
    }
   ],
   "source": [
    "#import data\n",
    "import pandas as pd\n",
    "JPY=pd.read_csv('JPY.csv',sep=',',index_col=0)\n",
    "JPY.head(5)"
   ]
  },
  {
   "cell_type": "code",
   "execution_count": 2,
   "metadata": {},
   "outputs": [
    {
     "data": {
      "text/plain": [
       "(592, 3)"
      ]
     },
     "execution_count": 2,
     "metadata": {},
     "output_type": "execute_result"
    }
   ],
   "source": [
    "JPY.shape"
   ]
  },
  {
   "cell_type": "markdown",
   "metadata": {},
   "source": [
    "## Data prepocessing"
   ]
  },
  {
   "cell_type": "code",
   "execution_count": 3,
   "metadata": {},
   "outputs": [
    {
     "data": {
      "text/plain": [
       "(586, 5)"
      ]
     },
     "execution_count": 3,
     "metadata": {},
     "output_type": "execute_result"
    }
   ],
   "source": [
    "#Define input & output. Notice that input is lagged up to 5 period.\n",
    "# X=(et-1,et-2,et-3,et-4,et-5), Y =et\n",
    "import numpy as np\n",
    "#Largest Forecasting period belongs to 7~ 16, choose 7 as forecasting period\n",
    "t=7\n",
    "X5=JPY.iloc[1:-5,1].values.reshape(-1,1)\n",
    "X4=JPY.iloc[2:-4,1].values.reshape(-1,1)\n",
    "X3=JPY.iloc[3:-3,1].values.reshape(-1,1)\n",
    "X2=JPY.iloc[4:-2,1].values.reshape(-1,1)\n",
    "X1=JPY.iloc[5:-1,1].values.reshape(-1,1)\n",
    "X=np.hstack((X1,X2,X3,X4,X5))\n",
    "y=JPY.iloc[6:,1].values\n",
    "X=np.array(X)\n",
    "y=np.array(y).reshape(-1,1)\n",
    "X.shape"
   ]
  },
  {
   "cell_type": "code",
   "execution_count": 4,
   "metadata": {},
   "outputs": [],
   "source": [
    "#Spilt data into training set and test set. \n",
    "#Because these is time series data, we canot randomly spilt them. \n",
    "X_train=X[0:-t]\n",
    "y_train=y[0:-t]\n",
    "X_test=X[-t:]\n",
    "y_test=y[-t:]\n"
   ]
  },
  {
   "cell_type": "markdown",
   "metadata": {},
   "source": [
    "## SVR"
   ]
  },
  {
   "cell_type": "code",
   "execution_count": 5,
   "metadata": {},
   "outputs": [],
   "source": [
    "from sklearn.svm import SVR\n",
    "from sklearn import preprocessing\n",
    "from sklearn.metrics import r2_score,mean_absolute_error,mean_squared_error"
   ]
  },
  {
   "cell_type": "code",
   "execution_count": 6,
   "metadata": {},
   "outputs": [],
   "source": [
    "# Preprocessing data between 0 and 1.\n",
    "min_max_scaler=preprocessing.MinMaxScaler()\n",
    "X_train_minmax=min_max_scaler.fit_transform(X_train)\n",
    "X_test=min_max_scaler.transform(X_test)\n",
    "y_train=min_max_scaler.fit_transform(y_train)\n",
    "y_test=min_max_scaler.transform(y_test)\n",
    "   "
   ]
  },
  {
   "cell_type": "code",
   "execution_count": 7,
   "metadata": {},
   "outputs": [],
   "source": [
    "#Define SVR function, using different kernel function\n",
    "#The parameters are found in grid search.See code at the end of the notebook.\n",
    "#Parameters are find if they perform best in validation set.Each validation set is 7 days which is the same length as test set. \n",
    "#We move the windows 10 times to get 10 validation set. \n",
    "svr_rbf=SVR(kernel='rbf',C=0.1,gamma=100)\n",
    "svr_linear=SVR(kernel='linear',C=0.001)\n",
    "svr_poly=SVR(kernel='poly',C=0.001,degree=7)"
   ]
  },
  {
   "cell_type": "code",
   "execution_count": 8,
   "metadata": {},
   "outputs": [
    {
     "name": "stderr",
     "output_type": "stream",
     "text": [
      "C:\\ProgramData\\Anaconda3\\lib\\site-packages\\sklearn\\utils\\validation.py:578: DataConversionWarning: A column-vector y was passed when a 1d array was expected. Please change the shape of y to (n_samples, ), for example using ravel().\n",
      "  y = column_or_1d(y, warn=True)\n"
     ]
    }
   ],
   "source": [
    "# Using SVR getting the forecast value\n",
    "y_rbf=svr_rbf.fit(X_train,y_train).predict(X_test)\n",
    "y_linear=svr_linear.fit(X_train,y_train).predict(X_test)\n",
    "y_poly=svr_poly.fit(X_train,y_train).predict(X_test)"
   ]
  },
  {
   "cell_type": "markdown",
   "metadata": {},
   "source": [
    "## Prediction"
   ]
  },
  {
   "cell_type": "code",
   "execution_count": 9,
   "metadata": {},
   "outputs": [],
   "source": [
    "# Define the output prediction metrics\n",
    "prediction=np.zeros(shape=(t+1,8))\n",
    "linear=min_max_scaler.inverse_transform(y_linear.reshape(-1,1))\n",
    "rbf=min_max_scaler.inverse_transform(y_rbf.reshape(-1,1))\n",
    "poly=min_max_scaler.inverse_transform(y_poly.reshape(-1,1))\n",
    "prediction[1:,2:5]=np.hstack((linear,rbf,poly))\n",
    "prediction[:,0]=JPY.iloc[-(t+1):,0].values\n",
    "prediction[:,1]=np.log(JPY.iloc[-(t+1):,0].values)\n",
    "prediction[0,1]\n",
    "for j in range (5,8):\n",
    "    prediction[1,j]=prediction[0,1]+prediction[1,j-3]\n",
    "for j in range (5,8):\n",
    "    for i in range (2,t+1):\n",
    "        prediction[i,j]=prediction[i,j-3]+ prediction[i-1,j]\n",
    "prediction[1:,5:8]=np.e**(prediction[1:,5:8])"
   ]
  },
  {
   "cell_type": "code",
   "execution_count": 10,
   "metadata": {},
   "outputs": [],
   "source": [
    "#output the prediction \n",
    "np.savetxt('prediction_SVR.csv',prediction,delimiter=',',\n",
    "           header='et,lnet,linear,rbf,poly,et-linear,et-rbf,et-poly',\n",
    "          fmt='%6f')"
   ]
  },
  {
   "cell_type": "markdown",
   "metadata": {},
   "source": [
    "## The accuracy index"
   ]
  },
  {
   "cell_type": "code",
   "execution_count": 11,
   "metadata": {},
   "outputs": [],
   "source": [
    "# Define accuracy index to test the result  \n",
    "prediction=pd.read_csv('prediction_SVR.csv',sep=',')"
   ]
  },
  {
   "cell_type": "code",
   "execution_count": 12,
   "metadata": {},
   "outputs": [],
   "source": [
    "y_real=prediction.iloc[1:,0].values\n",
    "y_pre_linear=prediction.iloc[1:,5].values\n",
    "y_pre_poly=prediction.iloc[1:,7].values\n",
    "y_pre_rbf=prediction.iloc[1:,6].values"
   ]
  },
  {
   "cell_type": "code",
   "execution_count": 13,
   "metadata": {},
   "outputs": [],
   "source": [
    "#1.Mean squrad error\n",
    "MSE_linear=np.sum(np.abs(y_real-y_pre_linear))/t\n",
    "MSE_poly=np.sum(np.abs(y_real-y_pre_poly))/t\n",
    "MSE_rbf=np.sum(np.abs(y_real-y_pre_rbf))/t"
   ]
  },
  {
   "cell_type": "code",
   "execution_count": 14,
   "metadata": {},
   "outputs": [],
   "source": [
    "#2.Mean abosolute error\n",
    "MAE_linear=np.sum((y_real-y_pre_linear)*(y_real-y_pre_linear))/t\n",
    "MAE_poly=np.sum((y_real-y_pre_poly)*(y_real-y_pre_poly))/t\n",
    "MAE_rbf=np.sum((y_real-y_pre_rbf)*(y_real-y_pre_rbf))/t"
   ]
  },
  {
   "cell_type": "code",
   "execution_count": 15,
   "metadata": {},
   "outputs": [],
   "source": [
    "#3.Root mean abosolute error\n",
    "RMSE_linear=np.sqrt(MSE_linear)\n",
    "RMSE_poly=np.sqrt(MSE_poly)\n",
    "RMSE_rbf=np.sqrt(MSE_rbf)"
   ]
  },
  {
   "cell_type": "code",
   "execution_count": 16,
   "metadata": {},
   "outputs": [],
   "source": [
    "#4.Mean abosulte percent error\n",
    "MAPE_linear=1/t*np.sum(np.abs((y_real-y_pre_linear)/y_real))\n",
    "MAPE_poly=1/t*np.sum(np.abs((y_real-y_pre_poly)/y_real))\n",
    "MAPE_rbf=1/t*np.sum(np.abs((y_real-y_pre_rbf)/y_real))\n"
   ]
  },
  {
   "cell_type": "code",
   "execution_count": 18,
   "metadata": {},
   "outputs": [],
   "source": [
    "#5.  1-MAPE goodness of fit\n",
    "U_linear=1-MAPE_linear\n",
    "U_poly=1-MAPE_poly\n",
    "U_rbf=1-MAPE_rbf"
   ]
  },
  {
   "cell_type": "code",
   "execution_count": 19,
   "metadata": {},
   "outputs": [],
   "source": [
    "index=np.zeros(shape=(3,5))\n",
    "index[[0]]=[MSE_linear,MAE_linear,RMSE_linear,MAPE_linear,U_linear]\n",
    "index[[1]]=[MSE_poly,MAE_poly,RMSE_poly,MAPE_poly,U_poly]\n",
    "index[[2]]=[MSE_rbf,MAE_rbf,RMSE_rbf,MAPE_rbf,U_rbf]"
   ]
  },
  {
   "cell_type": "code",
   "execution_count": 20,
   "metadata": {},
   "outputs": [],
   "source": [
    "np.savetxt('index_SVR.csv',index,delimiter=',',\n",
    "           header='MSE,MAE,RMSE,MAPE,U',fmt='%6f')"
   ]
  },
  {
   "cell_type": "markdown",
   "metadata": {},
   "source": [
    "## Grid search"
   ]
  },
  {
   "cell_type": "code",
   "execution_count": 79,
   "metadata": {},
   "outputs": [
    {
     "name": "stderr",
     "output_type": "stream",
     "text": [
      "C:\\ProgramData\\Anaconda3\\lib\\site-packages\\sklearn\\utils\\validation.py:578: DataConversionWarning: A column-vector y was passed when a 1d array was expected. Please change the shape of y to (n_samples, ), for example using ravel().\n",
      "  y = column_or_1d(y, warn=True)\n"
     ]
    }
   ],
   "source": [
    "#Following code has to run about 30 minutes!!\n",
    "# Grid search different parameters gamma, C, degree\n",
    "# Moving windows 10 periods to find the best parameters.\n",
    "for gamma in [0.001,0.01,0.1,1,10,100,1000]:\n",
    "    for C in [0.0001,0.001,0.01,0.1,1,10,100]:\n",
    "        for degree in [2,3,4,5,6,7,8]:\n",
    "            UL=0\n",
    "            UP=0\n",
    "            UR=0\n",
    "            for k in [1,2,3,4,5,6,7,8,9,10]:\n",
    "                #spilt training set into trainging and validation set.\n",
    "                # The validation set is used to find the best parameters.\n",
    "                X_vali=X_train[-t-k:-k]\n",
    "                y_vali=y_train[-t-k:-k]\n",
    "                X_tra=X_train[:-t-k]\n",
    "                y_tra=y_train[:-t-k]\n",
    "                svr_rbf=SVR(kernel='rbf',C=C,gamma=gamma)\n",
    "                svr_linear=SVR(kernel='linear',C=C)\n",
    "                svr_poly=SVR(kernel='poly',C=C,degree=degree)\n",
    "            \n",
    "                y_rbf=svr_rbf.fit(X_tra,y_tra).predict(X_vali)\n",
    "                y_linear=svr_linear.fit(X_tra,y_tra).predict(X_vali)\n",
    "                y_poly=svr_poly.fit(X_tra,y_tra).predict(X_vali)\n",
    "            \n",
    "                prediction=np.zeros(shape=(t+1,8))\n",
    "                linear=min_max_scaler.inverse_transform(y_linear.reshape(-1,1))\n",
    "                rbf=min_max_scaler.inverse_transform(y_rbf.reshape(-1,1))\n",
    "                poly=min_max_scaler.inverse_transform(y_poly.reshape(-1,1))\n",
    "                prediction[1:,2:5]=np.hstack((linear,rbf,poly))\n",
    "                prediction[:,0]=JPY.iloc[-(2*t+1)-k:-k-t,0].values\n",
    "                prediction[:,1]=np.log(JPY.iloc[-(2*t+1)-k:-t-k,0].values)\n",
    "                prediction[0,1]\n",
    "                for j in range (5,8):\n",
    "                    prediction[1,j]=prediction[0,1]+prediction[1,j-3]\n",
    "                for j in range (5,8):\n",
    "                    for i in range (2,t+1):\n",
    "                        prediction[i,j]=prediction[i,j-3]+ prediction[i-1,j]\n",
    "                prediction[1:,5:8]=np.e**(prediction[1:,5:8])\n",
    "            \n",
    "                y_real=prediction[1:,0]\n",
    "                y_pre_linear=prediction[1:,5]\n",
    "                y_pre_poly=prediction[1:,7]\n",
    "                y_pre_rbf=prediction[1:,6]\n",
    "            \n",
    "                MAPE_linear=1/t*np.sum(np.abs((y_real-y_pre_linear)/y_real))\n",
    "                MAPE_poly=1/t*np.sum(np.abs((y_real-y_pre_poly)/y_real))\n",
    "                MAPE_rbf=1/t*np.sum(np.abs((y_real-y_pre_rbf)/y_real))\n",
    "                u_l=1-MAPE_linear\n",
    "                u_p=1-MAPE_poly\n",
    "                u_r=1-MAPE_rbf\n",
    "                if k==10:\n",
    "                    U_linear=(UL+u_l)/10\n",
    "                    U_poly=(UP+u_p)/10\n",
    "                    U_rbf=(UR+u_r)/10\n",
    "                else  :\n",
    "                    UL=UL+u_l\n",
    "                    UP=UP+u_p\n",
    "                    UR=UR+u_r\n",
    "                \n",
    "            if U_linear > best_U_linear:\n",
    "                best_U_linear=U_linear\n",
    "                best_linear_parameters = {'C':C}\n",
    "            if U_poly > best_U_poly:\n",
    "                best_U_poly=U_poly\n",
    "                best_poly_parameters = {'degree':degree,'C':C}\n",
    "            if U_rbf > best_U_rbf:\n",
    "                best_U_rbf=U_rbf\n",
    "                best_rbf_parameters = {'gamma':gamma,'C':C}"
   ]
  },
  {
   "cell_type": "code",
   "execution_count": 80,
   "metadata": {
    "scrolled": true
   },
   "outputs": [
    {
     "name": "stdout",
     "output_type": "stream",
     "text": [
      "Best rbf score:0.9312975\n",
      "Best rbf parameters:{'gamma': 100, 'C': 0.1}\n"
     ]
    }
   ],
   "source": [
    "# Best parameters\n",
    "print(\"Best rbf score:{:.7f}\".format(best_U_rbf))\n",
    "print(\"Best rbf parameters:{}\".format(best_rbf_parameters))"
   ]
  },
  {
   "cell_type": "code",
   "execution_count": 81,
   "metadata": {},
   "outputs": [
    {
     "name": "stdout",
     "output_type": "stream",
     "text": [
      "Best linear score:0.9084192\n",
      "Best linear parameters:{'C': 0.0001}\n"
     ]
    }
   ],
   "source": [
    "print(\"Best linear score:{:.7f}\".format(best_U_linear))\n",
    "print(\"Best linear parameters:{}\".format(best_linear_parameters))"
   ]
  },
  {
   "cell_type": "code",
   "execution_count": 82,
   "metadata": {},
   "outputs": [
    {
     "name": "stdout",
     "output_type": "stream",
     "text": [
      "Best poly score:0.9472672\n",
      "Best poly parameters:{'degree': 7, 'C': 0.001}\n"
     ]
    }
   ],
   "source": [
    "print(\"Best poly score:{:.7f}\".format(best_U_poly))\n",
    "print(\"Best poly parameters:{}\".format(best_poly_parameters))"
   ]
  }
 ],
 "metadata": {
  "kernelspec": {
   "display_name": "Python 3",
   "language": "python",
   "name": "python3"
  },
  "language_info": {
   "codemirror_mode": {
    "name": "ipython",
    "version": 3
   },
   "file_extension": ".py",
   "mimetype": "text/x-python",
   "name": "python",
   "nbconvert_exporter": "python",
   "pygments_lexer": "ipython3",
   "version": "3.6.4"
  }
 },
 "nbformat": 4,
 "nbformat_minor": 2
}
