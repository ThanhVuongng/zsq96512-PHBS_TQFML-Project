{
 "cells": [
  {
   "cell_type": "markdown",
   "metadata": {},
   "source": [
    "# Conclusion"
   ]
  },
  {
   "cell_type": "markdown",
   "metadata": {},
   "source": [
    "## Prediction Result"
   ]
  },
  {
   "cell_type": "code",
   "execution_count": 2,
   "metadata": {},
   "outputs": [
    {
     "data": {
      "text/html": [
       "<div>\n",
       "<style scoped>\n",
       "    .dataframe tbody tr th:only-of-type {\n",
       "        vertical-align: middle;\n",
       "    }\n",
       "\n",
       "    .dataframe tbody tr th {\n",
       "        vertical-align: top;\n",
       "    }\n",
       "\n",
       "    .dataframe thead th {\n",
       "        text-align: right;\n",
       "    }\n",
       "</style>\n",
       "<table border=\"1\" class=\"dataframe\">\n",
       "  <thead>\n",
       "    <tr style=\"text-align: right;\">\n",
       "      <th></th>\n",
       "      <th># et</th>\n",
       "      <th>lnet</th>\n",
       "      <th>linear</th>\n",
       "      <th>rbf</th>\n",
       "      <th>poly</th>\n",
       "      <th>et-linear</th>\n",
       "      <th>et-rbf</th>\n",
       "      <th>et-poly</th>\n",
       "    </tr>\n",
       "  </thead>\n",
       "  <tbody>\n",
       "    <tr>\n",
       "      <th>0</th>\n",
       "      <td>106.285</td>\n",
       "      <td>4.666124</td>\n",
       "      <td>0.000000</td>\n",
       "      <td>0.000000</td>\n",
       "      <td>0.000000</td>\n",
       "      <td>0.000000</td>\n",
       "      <td>0.000000</td>\n",
       "      <td>0.000000</td>\n",
       "    </tr>\n",
       "    <tr>\n",
       "      <th>1</th>\n",
       "      <td>105.900</td>\n",
       "      <td>4.662495</td>\n",
       "      <td>0.037792</td>\n",
       "      <td>-0.013594</td>\n",
       "      <td>-0.012400</td>\n",
       "      <td>110.378541</td>\n",
       "      <td>104.849966</td>\n",
       "      <td>104.975163</td>\n",
       "    </tr>\n",
       "    <tr>\n",
       "      <th>2</th>\n",
       "      <td>106.605</td>\n",
       "      <td>4.669130</td>\n",
       "      <td>0.047518</td>\n",
       "      <td>-0.013594</td>\n",
       "      <td>-0.012492</td>\n",
       "      <td>115.750136</td>\n",
       "      <td>103.434307</td>\n",
       "      <td>103.671936</td>\n",
       "    </tr>\n",
       "    <tr>\n",
       "      <th>3</th>\n",
       "      <td>106.775</td>\n",
       "      <td>4.670724</td>\n",
       "      <td>0.044623</td>\n",
       "      <td>-0.013594</td>\n",
       "      <td>-0.011956</td>\n",
       "      <td>121.032272</td>\n",
       "      <td>102.037762</td>\n",
       "      <td>102.439846</td>\n",
       "    </tr>\n",
       "    <tr>\n",
       "      <th>4</th>\n",
       "      <td>107.385</td>\n",
       "      <td>4.676421</td>\n",
       "      <td>0.047171</td>\n",
       "      <td>-0.013594</td>\n",
       "      <td>-0.012827</td>\n",
       "      <td>126.878312</td>\n",
       "      <td>100.660073</td>\n",
       "      <td>101.134275</td>\n",
       "    </tr>\n",
       "  </tbody>\n",
       "</table>\n",
       "</div>"
      ],
      "text/plain": [
       "      # et      lnet    linear       rbf      poly   et-linear      et-rbf  \\\n",
       "0  106.285  4.666124  0.000000  0.000000  0.000000    0.000000    0.000000   \n",
       "1  105.900  4.662495  0.037792 -0.013594 -0.012400  110.378541  104.849966   \n",
       "2  106.605  4.669130  0.047518 -0.013594 -0.012492  115.750136  103.434307   \n",
       "3  106.775  4.670724  0.044623 -0.013594 -0.011956  121.032272  102.037762   \n",
       "4  107.385  4.676421  0.047171 -0.013594 -0.012827  126.878312  100.660073   \n",
       "\n",
       "      et-poly  \n",
       "0    0.000000  \n",
       "1  104.975163  \n",
       "2  103.671936  \n",
       "3  102.439846  \n",
       "4  101.134275  "
      ]
     },
     "execution_count": 2,
     "metadata": {},
     "output_type": "execute_result"
    }
   ],
   "source": [
    "#import data\n",
    "import pandas as pd\n",
    "import numpy as np\n",
    "prediction_SVR=pd.read_csv('prediction_SVR.csv')\n",
    "prediction_SVR.head(5)"
   ]
  },
  {
   "cell_type": "code",
   "execution_count": 3,
   "metadata": {},
   "outputs": [
    {
     "data": {
      "text/html": [
       "<div>\n",
       "<style scoped>\n",
       "    .dataframe tbody tr th:only-of-type {\n",
       "        vertical-align: middle;\n",
       "    }\n",
       "\n",
       "    .dataframe tbody tr th {\n",
       "        vertical-align: top;\n",
       "    }\n",
       "\n",
       "    .dataframe thead th {\n",
       "        text-align: right;\n",
       "    }\n",
       "</style>\n",
       "<table border=\"1\" class=\"dataframe\">\n",
       "  <thead>\n",
       "    <tr style=\"text-align: right;\">\n",
       "      <th></th>\n",
       "      <th># et</th>\n",
       "      <th>lnet</th>\n",
       "      <th>ANN</th>\n",
       "      <th>et_ANN</th>\n",
       "    </tr>\n",
       "  </thead>\n",
       "  <tbody>\n",
       "    <tr>\n",
       "      <th>0</th>\n",
       "      <td>106.285</td>\n",
       "      <td>4.666124</td>\n",
       "      <td>0.000000</td>\n",
       "      <td>0.000000</td>\n",
       "    </tr>\n",
       "    <tr>\n",
       "      <th>1</th>\n",
       "      <td>105.900</td>\n",
       "      <td>4.662495</td>\n",
       "      <td>-0.087806</td>\n",
       "      <td>97.350572</td>\n",
       "    </tr>\n",
       "    <tr>\n",
       "      <th>2</th>\n",
       "      <td>106.605</td>\n",
       "      <td>4.669130</td>\n",
       "      <td>0.075516</td>\n",
       "      <td>104.986803</td>\n",
       "    </tr>\n",
       "    <tr>\n",
       "      <th>3</th>\n",
       "      <td>106.775</td>\n",
       "      <td>4.670724</td>\n",
       "      <td>0.009444</td>\n",
       "      <td>105.982991</td>\n",
       "    </tr>\n",
       "    <tr>\n",
       "      <th>4</th>\n",
       "      <td>107.385</td>\n",
       "      <td>4.676421</td>\n",
       "      <td>0.017065</td>\n",
       "      <td>107.807135</td>\n",
       "    </tr>\n",
       "    <tr>\n",
       "      <th>5</th>\n",
       "      <td>106.925</td>\n",
       "      <td>4.672128</td>\n",
       "      <td>-0.056528</td>\n",
       "      <td>101.882105</td>\n",
       "    </tr>\n",
       "    <tr>\n",
       "      <th>6</th>\n",
       "      <td>106.780</td>\n",
       "      <td>4.670771</td>\n",
       "      <td>0.003828</td>\n",
       "      <td>102.272821</td>\n",
       "    </tr>\n",
       "    <tr>\n",
       "      <th>7</th>\n",
       "      <td>107.195</td>\n",
       "      <td>4.674650</td>\n",
       "      <td>0.048258</td>\n",
       "      <td>107.329307</td>\n",
       "    </tr>\n",
       "  </tbody>\n",
       "</table>\n",
       "</div>"
      ],
      "text/plain": [
       "      # et      lnet       ANN      et_ANN\n",
       "0  106.285  4.666124  0.000000    0.000000\n",
       "1  105.900  4.662495 -0.087806   97.350572\n",
       "2  106.605  4.669130  0.075516  104.986803\n",
       "3  106.775  4.670724  0.009444  105.982991\n",
       "4  107.385  4.676421  0.017065  107.807135\n",
       "5  106.925  4.672128 -0.056528  101.882105\n",
       "6  106.780  4.670771  0.003828  102.272821\n",
       "7  107.195  4.674650  0.048258  107.329307"
      ]
     },
     "execution_count": 3,
     "metadata": {},
     "output_type": "execute_result"
    }
   ],
   "source": [
    "prediction_ANN=pd.read_csv('prediction_ANN.csv')\n",
    "prediction_ANN"
   ]
  },
  {
   "cell_type": "code",
   "execution_count": 7,
   "metadata": {},
   "outputs": [
    {
     "data": {
      "image/png": "[encoded data removed]",
      "text/plain": [
       "<matplotlib.figure.Figure at 0xb139320>"
      ]
     },
     "metadata": {},
     "output_type": "display_data"
    }
   ],
   "source": [
    "# show prediction result.\n",
    "#Because linear prediction is far from the reality, we didn't draw it.\n",
    "import matplotlib.pyplot as plt\n",
    "import seaborn as sns \n",
    "real=prediction_SVR.iloc[1:,0]\n",
    "poly=prediction_SVR.iloc[1:,7]\n",
    "rbf=prediction_SVR.iloc[1:,6]\n",
    "ann=prediction_ANN.iloc[1:,3]\n",
    "real.plot(figsize=(12,8),color='g',linewidth=2.0)\n",
    "ann.plot(figsize=(12,8),color='m',linewidth=2.0)\n",
    "plt.legend(bbox_to_anchor=(1.25, 0.5))\n",
    "plt.title(\"JPY/USD exchange rate\")\n",
    "sns.despine()\n",
    "plt.show()"
   ]
  },
  {
   "cell_type": "markdown",
   "metadata": {},
   "source": [
    "## Error Index "
   ]
  },
  {
   "cell_type": "code",
   "execution_count": 8,
   "metadata": {},
   "outputs": [
    {
     "data": {
      "text/html": [
       "<div>\n",
       "<style scoped>\n",
       "    .dataframe tbody tr th:only-of-type {\n",
       "        vertical-align: middle;\n",
       "    }\n",
       "\n",
       "    .dataframe tbody tr th {\n",
       "        vertical-align: top;\n",
       "    }\n",
       "\n",
       "    .dataframe thead th {\n",
       "        text-align: right;\n",
       "    }\n",
       "</style>\n",
       "<table border=\"1\" class=\"dataframe\">\n",
       "  <thead>\n",
       "    <tr style=\"text-align: right;\">\n",
       "      <th></th>\n",
       "      <th># MSE</th>\n",
       "      <th>MAE</th>\n",
       "      <th>RMSE</th>\n",
       "      <th>MAPE</th>\n",
       "      <th>U</th>\n",
       "    </tr>\n",
       "  </thead>\n",
       "  <tbody>\n",
       "    <tr>\n",
       "      <th>0</th>\n",
       "      <td>20.350811</td>\n",
       "      <td>538.486704</td>\n",
       "      <td>4.511187</td>\n",
       "      <td>0.190270</td>\n",
       "      <td>0.809730</td>\n",
       "    </tr>\n",
       "    <tr>\n",
       "      <th>1</th>\n",
       "      <td>5.643329</td>\n",
       "      <td>40.067599</td>\n",
       "      <td>2.375569</td>\n",
       "      <td>0.052756</td>\n",
       "      <td>0.947244</td>\n",
       "    </tr>\n",
       "    <tr>\n",
       "      <th>2</th>\n",
       "      <td>6.097721</td>\n",
       "      <td>46.599141</td>\n",
       "      <td>2.469356</td>\n",
       "      <td>0.057005</td>\n",
       "      <td>0.942995</td>\n",
       "    </tr>\n",
       "  </tbody>\n",
       "</table>\n",
       "</div>"
      ],
      "text/plain": [
       "       # MSE         MAE      RMSE      MAPE         U\n",
       "0  20.350811  538.486704  4.511187  0.190270  0.809730\n",
       "1   5.643329   40.067599  2.375569  0.052756  0.947244\n",
       "2   6.097721   46.599141  2.469356  0.057005  0.942995"
      ]
     },
     "execution_count": 8,
     "metadata": {},
     "output_type": "execute_result"
    }
   ],
   "source": [
    "#import data\n",
    "index_SVR=pd.read_csv('index_SVR.csv')\n",
    "index_SVR.head(5)"
   ]
  },
  {
   "cell_type": "code",
   "execution_count": 9,
   "metadata": {},
   "outputs": [
    {
     "data": {
      "text/html": [
       "<div>\n",
       "<style scoped>\n",
       "    .dataframe tbody tr th:only-of-type {\n",
       "        vertical-align: middle;\n",
       "    }\n",
       "\n",
       "    .dataframe tbody tr th {\n",
       "        vertical-align: top;\n",
       "    }\n",
       "\n",
       "    .dataframe thead th {\n",
       "        text-align: right;\n",
       "    }\n",
       "</style>\n",
       "<table border=\"1\" class=\"dataframe\">\n",
       "  <thead>\n",
       "    <tr style=\"text-align: right;\">\n",
       "      <th></th>\n",
       "      <th># MSE</th>\n",
       "      <th>MAE</th>\n",
       "      <th>RMSE</th>\n",
       "      <th>MAPE</th>\n",
       "      <th>U</th>\n",
       "    </tr>\n",
       "  </thead>\n",
       "  <tbody>\n",
       "    <tr>\n",
       "      <th>0</th>\n",
       "      <td>3.00945</td>\n",
       "      <td>17.468607</td>\n",
       "      <td>1.734777</td>\n",
       "      <td>0.028269</td>\n",
       "      <td>0.971731</td>\n",
       "    </tr>\n",
       "  </tbody>\n",
       "</table>\n",
       "</div>"
      ],
      "text/plain": [
       "     # MSE        MAE      RMSE      MAPE         U\n",
       "0  3.00945  17.468607  1.734777  0.028269  0.971731"
      ]
     },
     "execution_count": 9,
     "metadata": {},
     "output_type": "execute_result"
    }
   ],
   "source": [
    "index_ANN=pd.read_csv('index_ANN.csv')\n",
    "index_ANN"
   ]
  },
  {
   "cell_type": "code",
   "execution_count": 10,
   "metadata": {},
   "outputs": [
    {
     "data": {
      "text/html": [
       "<div>\n",
       "<style scoped>\n",
       "    .dataframe tbody tr th:only-of-type {\n",
       "        vertical-align: middle;\n",
       "    }\n",
       "\n",
       "    .dataframe tbody tr th {\n",
       "        vertical-align: top;\n",
       "    }\n",
       "\n",
       "    .dataframe thead th {\n",
       "        text-align: right;\n",
       "    }\n",
       "</style>\n",
       "<table border=\"1\" class=\"dataframe\">\n",
       "  <thead>\n",
       "    <tr style=\"text-align: right;\">\n",
       "      <th></th>\n",
       "      <th># MSE</th>\n",
       "      <th>MAE</th>\n",
       "      <th>RMSE</th>\n",
       "      <th>MAPE</th>\n",
       "      <th>U</th>\n",
       "    </tr>\n",
       "  </thead>\n",
       "  <tbody>\n",
       "    <tr>\n",
       "      <th>0</th>\n",
       "      <td>20.350811</td>\n",
       "      <td>538.486704</td>\n",
       "      <td>4.511187</td>\n",
       "      <td>0.190270</td>\n",
       "      <td>0.809730</td>\n",
       "    </tr>\n",
       "    <tr>\n",
       "      <th>1</th>\n",
       "      <td>5.643329</td>\n",
       "      <td>40.067599</td>\n",
       "      <td>2.375569</td>\n",
       "      <td>0.052756</td>\n",
       "      <td>0.947244</td>\n",
       "    </tr>\n",
       "    <tr>\n",
       "      <th>2</th>\n",
       "      <td>6.097721</td>\n",
       "      <td>46.599141</td>\n",
       "      <td>2.469356</td>\n",
       "      <td>0.057005</td>\n",
       "      <td>0.942995</td>\n",
       "    </tr>\n",
       "    <tr>\n",
       "      <th>0</th>\n",
       "      <td>3.009450</td>\n",
       "      <td>17.468607</td>\n",
       "      <td>1.734777</td>\n",
       "      <td>0.028269</td>\n",
       "      <td>0.971731</td>\n",
       "    </tr>\n",
       "  </tbody>\n",
       "</table>\n",
       "</div>"
      ],
      "text/plain": [
       "       # MSE         MAE      RMSE      MAPE         U\n",
       "0  20.350811  538.486704  4.511187  0.190270  0.809730\n",
       "1   5.643329   40.067599  2.375569  0.052756  0.947244\n",
       "2   6.097721   46.599141  2.469356  0.057005  0.942995\n",
       "0   3.009450   17.468607  1.734777  0.028269  0.971731"
      ]
     },
     "execution_count": 10,
     "metadata": {},
     "output_type": "execute_result"
    }
   ],
   "source": [
    "index=pd.DataFrame(columns=('# MSE','MAE','RMSE','MAPE','U'))\n",
    "index=index.append(index_SVR)\n",
    "index=index.append(index_ANN)\n",
    "index"
   ]
  },
  {
   "cell_type": "code",
   "execution_count": 11,
   "metadata": {},
   "outputs": [
    {
     "data": {
      "text/html": [
       "<div>\n",
       "<style scoped>\n",
       "    .dataframe tbody tr th:only-of-type {\n",
       "        vertical-align: middle;\n",
       "    }\n",
       "\n",
       "    .dataframe tbody tr th {\n",
       "        vertical-align: top;\n",
       "    }\n",
       "\n",
       "    .dataframe thead th {\n",
       "        text-align: right;\n",
       "    }\n",
       "</style>\n",
       "<table border=\"1\" class=\"dataframe\">\n",
       "  <thead>\n",
       "    <tr style=\"text-align: right;\">\n",
       "      <th></th>\n",
       "      <th>index</th>\n",
       "      <th># MSE</th>\n",
       "      <th>MAE</th>\n",
       "      <th>RMSE</th>\n",
       "      <th>MAPE</th>\n",
       "      <th>U</th>\n",
       "    </tr>\n",
       "  </thead>\n",
       "  <tbody>\n",
       "    <tr>\n",
       "      <th>0</th>\n",
       "      <td>linear</td>\n",
       "      <td>20.350811</td>\n",
       "      <td>538.486704</td>\n",
       "      <td>4.511187</td>\n",
       "      <td>0.190270</td>\n",
       "      <td>0.809730</td>\n",
       "    </tr>\n",
       "    <tr>\n",
       "      <th>1</th>\n",
       "      <td>poly</td>\n",
       "      <td>5.643329</td>\n",
       "      <td>40.067599</td>\n",
       "      <td>2.375569</td>\n",
       "      <td>0.052756</td>\n",
       "      <td>0.947244</td>\n",
       "    </tr>\n",
       "    <tr>\n",
       "      <th>2</th>\n",
       "      <td>rbf</td>\n",
       "      <td>6.097721</td>\n",
       "      <td>46.599141</td>\n",
       "      <td>2.469356</td>\n",
       "      <td>0.057005</td>\n",
       "      <td>0.942995</td>\n",
       "    </tr>\n",
       "    <tr>\n",
       "      <th>0</th>\n",
       "      <td>ann</td>\n",
       "      <td>3.009450</td>\n",
       "      <td>17.468607</td>\n",
       "      <td>1.734777</td>\n",
       "      <td>0.028269</td>\n",
       "      <td>0.971731</td>\n",
       "    </tr>\n",
       "  </tbody>\n",
       "</table>\n",
       "</div>"
      ],
      "text/plain": [
       "    index      # MSE         MAE      RMSE      MAPE         U\n",
       "0  linear  20.350811  538.486704  4.511187  0.190270  0.809730\n",
       "1    poly   5.643329   40.067599  2.375569  0.052756  0.947244\n",
       "2     rbf   6.097721   46.599141  2.469356  0.057005  0.942995\n",
       "0     ann   3.009450   17.468607  1.734777  0.028269  0.971731"
      ]
     },
     "execution_count": 11,
     "metadata": {},
     "output_type": "execute_result"
    }
   ],
   "source": [
    "indexname=['linear','poly','rbf','ann']\n",
    "index.insert(0,'index',indexname)\n",
    "index"
   ]
  },
  {
   "cell_type": "code",
   "execution_count": 12,
   "metadata": {},
   "outputs": [],
   "source": [
    "from matplotlib import mlab\n",
    "from matplotlib import rcParams\n",
    "U=index.iloc[1:,5]\n",
    "MAPE=index.iloc[1:,4]\n",
    "MSE=index.iloc[1:,1]\n",
    "MAE=index.iloc[1:,2]\n",
    "RMSE=index.iloc[1:,3]"
   ]
  },
  {
   "cell_type": "code",
   "execution_count": 13,
   "metadata": {},
   "outputs": [
    {
     "data": {
      "text/plain": [
       "([<matplotlib.axis.XTick at 0xb272b00>,\n",
       "  <matplotlib.axis.XTick at 0xb2726a0>,\n",
       "  <matplotlib.axis.XTick at 0xb271518>],\n",
       " <a list of 3 Text xticklabel objects>)"
      ]
     },
     "execution_count": 13,
     "metadata": {},
     "output_type": "execute_result"
    },
    {
     "data": {
      "image/png": "[encoded data removed]",
      "text/plain": [
       "<matplotlib.figure.Figure at 0xb248320>"
      ]
     },
     "metadata": {},
     "output_type": "display_data"
    }
   ],
   "source": [
    "# Draw a Bar Graph\n",
    "X=np.arange(3)\n",
    "width=0.1\n",
    "plt.bar(X,MSE,width,color='b',label='MSE')\n",
    "plt.bar(X+width,RMSE,width,color='c',label=('RMSE'))\n",
    "plt.bar(X+width*2,MAPE,width,color='m',label=('MAPE'))\n",
    "plt.bar(X+width*3,U,width,color='g',label='U')\n",
    "plt.legend(bbox_to_anchor=(1.25, 0.5))\n",
    "plt.xticks((0.2,1.2,2.2),('poly','rbf','ann'))"
   ]
  }
 ],
 "metadata": {
  "kernelspec": {
   "display_name": "Python 3",
   "language": "python",
   "name": "python3"
  },
  "language_info": {
   "codemirror_mode": {
    "name": "ipython",
    "version": 3
   },
   "file_extension": ".py",
   "mimetype": "text/x-python",
   "name": "python",
   "nbconvert_exporter": "python",
   "pygments_lexer": "ipython3",
   "version": "3.6.4"
  }
 },
 "nbformat": 4,
 "nbformat_minor": 2
}
